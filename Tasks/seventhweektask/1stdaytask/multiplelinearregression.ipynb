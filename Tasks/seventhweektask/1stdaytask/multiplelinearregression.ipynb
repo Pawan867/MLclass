{
 "cells": [
  {
   "cell_type": "code",
   "execution_count": null,
   "metadata": {},
   "outputs": [],
   "source": [
    "#Multiple linear regression\n",
    "#.as seen in simple linear regression, we used single independent variable for car price prediction\n",
    "#However, in real world datasets, for accurate presiction of car price, we need to consider multiple features/variables instead of single one. in such scenario multiple linear regression would be helpful"
   ]
  },
  {
   "cell_type": "code",
   "execution_count": null,
   "metadata": {},
   "outputs": [],
   "source": [
    "to_select = ['horsepower', 'curb-weight', 'engine-size', 'highway-mpg']\n",
    "x_train_mult = X_train[to_select].values"
   ]
  },
  {
   "cell_type": "markdown",
   "metadata": {},
   "source": []
  }
 ],
 "metadata": {
  "kernelspec": {
   "display_name": "Python 3.10.2 ('environment': venv)",
   "language": "python",
   "name": "python3"
  },
  "language_info": {
   "name": "python",
   "version": "3.10.2"
  },
  "orig_nbformat": 4,
  "vscode": {
   "interpreter": {
    "hash": "77edf1224c59a1d2615c3bcb2c3811184a8cabf60bb43ec3fc1bf0437885e180"
   }
  }
 },
 "nbformat": 4,
 "nbformat_minor": 2
}
